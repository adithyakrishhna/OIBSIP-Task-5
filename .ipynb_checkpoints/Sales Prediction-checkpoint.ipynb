{
 "cells": [
  {
   "cell_type": "markdown",
   "id": "70d9ef1b",
   "metadata": {},
   "source": [
    "# Sales Prediction Using Python"
   ]
  },
  {
   "cell_type": "markdown",
   "id": "305673b1",
   "metadata": {},
   "source": [
    "# Steps to build a ML model:\n",
    "1. Import Libraries\n",
    "2. Import dataset\n",
    "3. Visualizing the dataset\n",
    "4. Linear Regression\n",
    "5. Plotting y_test and y_pred"
   ]
  },
  {
   "cell_type": "code",
   "execution_count": null,
   "id": "ec4239ee",
   "metadata": {},
   "outputs": [],
   "source": []
  }
 ],
 "metadata": {
  "kernelspec": {
   "display_name": "Python 3 (ipykernel)",
   "language": "python",
   "name": "python3"
  },
  "language_info": {
   "codemirror_mode": {
    "name": "ipython",
    "version": 3
   },
   "file_extension": ".py",
   "mimetype": "text/x-python",
   "name": "python",
   "nbconvert_exporter": "python",
   "pygments_lexer": "ipython3",
   "version": "3.9.12"
  }
 },
 "nbformat": 4,
 "nbformat_minor": 5
}
